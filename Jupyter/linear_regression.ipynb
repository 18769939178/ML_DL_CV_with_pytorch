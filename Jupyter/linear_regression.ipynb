{
 "cells": [
  {
   "cell_type": "code",
   "execution_count": 2,
   "id": "7e378f0b",
   "metadata": {},
   "outputs": [],
   "source": [
    "import torch\n",
    "import random\n",
    "import matplotlib.pyplot as plt\n",
    "import numpy as np"
   ]
  },
  {
   "cell_type": "markdown",
   "id": "4687a0c7",
   "metadata": {},
   "source": [
    "我们定义线性模型$$y=w^Tx+b$$"
   ]
  },
  {
   "cell_type": "code",
   "execution_count": 15,
   "id": "b3a9b7ab",
   "metadata": {},
   "outputs": [],
   "source": [
    "x=torch.normal(0,10,size=(3,500))#3*500矩阵，3个特征\n",
    "w=torch.tensor([2.,-3.,4.])#设置w和b的参数\n",
    "b=torch.tensor([1.]).reshape((1,1))#设置形状\n",
    "w=torch.reshape(w,(3,1))\n",
    "y=torch.mm(w.T,x)+b\n",
    "y+=torch.normal(0,0.01,y.shape)#得到带有噪声的真实的y"
   ]
  },
  {
   "cell_type": "markdown",
   "id": "6fec4f89",
   "metadata": {},
   "source": [
    "均方损失误差$$L(w,b)=\\sum\\limits^N_{i=1}\\Vert(w^Tx_i+b)-y_i\\Vert^2 $$"
   ]
  },
  {
   "cell_type": "code",
   "execution_count": 16,
   "id": "e9f48db6",
   "metadata": {},
   "outputs": [
    {
     "name": "stdout",
     "output_type": "stream",
     "text": [
      "tensor(30690.5312)\n"
     ]
    }
   ],
   "source": [
    "w_hat=torch.tensor([10.,10.,10.]).reshape(-1,1)\n",
    "b_hat=torch.tensor([10.]).reshape(1,1)#初始化w和b的预测值\n",
    "def loss():\n",
    "    #定义整体损失\n",
    "    return (torch.mm(w_hat.T,x)+b_hat-y)**2\n",
    "print(loss().sum()/500)"
   ]
  },
  {
   "cell_type": "markdown",
   "id": "c3030dac",
   "metadata": {},
   "source": [
    "分别对$w$和$b$求偏导 \n",
    "$$\n",
    "\\begin{aligned}\n",
    "L(w,b)&=\\sum\\limits^N_{i=1}\\Vert(w^Tx_i+b)-y_i\\Vert^2 \\\\ \n",
    "&=\\sum\\limits^N_{i=1}\\left[ (w^Tx_i+b)^2-2y_i(w^Tx_i+b)+y_i^2 \\right]\\\\\n",
    "\\frac{ \\partial L(w,b) }{ \\partial w }&=\\sum\\limits^N_{i=1}x_i\\left( w^Tx_i+b-y_i \\right)\\\\\n",
    "可以看到，对w的&偏导数也是一个与x同型的向量\\\\\n",
    "\\frac{ \\partial L(w,b) }{ \\partial b }&=2\\sum\\limits^N_{i=1}\\left(b+w^Tx_i-y_i\\right)\\\\\n",
    "\\end{aligned}\\\\ \n",
    "$$\n",
    "在这里注意一下，我们每次从整个数据集内取一批样本进行训练"
   ]
  },
  {
   "cell_type": "code",
   "execution_count": 18,
   "id": "c64120c2",
   "metadata": {},
   "outputs": [
    {
     "name": "stdout",
     "output_type": "stream",
     "text": [
      "tensor(0.0073)\n",
      "tensor(0.0029)\n",
      "tensor(0.0012)\n",
      "tensor(0.0006)\n",
      "tensor(0.0004)\n",
      "tensor(0.0003)\n",
      "tensor(0.0002)\n",
      "tensor(0.0002)\n",
      "tensor(0.0002)\n",
      "tensor(0.0002)\n",
      "tensor(0.0002)\n",
      "tensor([[ 1.9993],\n",
      "        [-2.9997],\n",
      "        [ 4.0005]]) tensor([[1.0005]])\n"
     ]
    },
    {
     "data": {
      "image/png": "[encoded data removed]",
      "text/plain": [
       "<Figure size 432x288 with 1 Axes>"
      ]
     },
     "metadata": {
      "needs_background": "light"
     },
     "output_type": "display_data"
    }
   ],
   "source": [
    "c=list(range(0,500,5))#生成有序列表，0-495，步距5\n",
    "c=random.shuffle(c)#打乱，得到乱序列表，用于随机取值\n",
    "rate=0.005\n",
    "loss_list=[]\n",
    "def grad_cal(i):#计算梯度，每次计算一个\n",
    "    x_0=x[:,i].reshape((-1,1)) #将x进行随机切片，得到3*1矩阵\n",
    "    y_0=y[:,i].reshape((-1,1)) #同时将x,y设置为向量，3维向量和1维矩阵\n",
    "    b_grad=(torch.mm(w_hat.T,x_0)+b_hat-y_0)#此时b是1*1矩阵\n",
    "    w_grad=x_0*b_grad#此时x_0是3*1，b_grad是1*1，直接相乘可以得到3*1\n",
    "    return w_grad,b_grad\n",
    "epochs=[1,2,3,4,5,6,7,8,9,10]\n",
    "print(loss().sum()/500)\n",
    "for epoch in epochs:#多轮学习\n",
    "    for i in range(0,500,5):#每轮里面每次从一些样本里面学习\n",
    "        w_1,b_1=grad_cal(i)\n",
    "        w_2,b_2=grad_cal(i+1)\n",
    "        w_3,b_3=grad_cal(i+2)\n",
    "        w_4,b_4=grad_cal(i+3)\n",
    "        w_5,b_5=grad_cal(i+4)\n",
    "        w_hat-=rate*(w_1+w_2+w_3+w_4+w_5)/5.0\n",
    "        b_hat-=rate*(b_1+b_2+b_3+b_4+b_5)/5.0\n",
    "    loss_list.append(loss().sum()/500)\n",
    "    print(loss().sum()/500)\n",
    "loss_array=np.array(loss_list)\n",
    "xx=np.arange(0,10)\n",
    "plt.plot(xx,loss_array)\n",
    "print(w_hat,b_hat)"
   ]
  }
 ],
 "metadata": {
  "interpreter": {
   "hash": "626b84ec26a6d8396433116dac39e78ee4902057c11e9026f53c849adf513601"
  },
  "kernelspec": {
   "display_name": "Python 3.8.2 ('pytorch')",
   "language": "python",
   "name": "python3"
  },
  "language_info": {
   "codemirror_mode": {
    "name": "ipython",
    "version": 3
   },
   "file_extension": ".py",
   "mimetype": "text/x-python",
   "name": "python",
   "nbconvert_exporter": "python",
   "pygments_lexer": "ipython3",
   "version": "3.8.2"
  }
 },
 "nbformat": 4,
 "nbformat_minor": 5
}
